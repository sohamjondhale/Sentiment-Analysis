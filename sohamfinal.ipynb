{
  "cells": [
    {
      "cell_type": "code",
      "execution_count": null,
      "metadata": {
        "id": "BQgQHj_g_Hrc"
      },
      "outputs": [],
      "source": [
        "import numpy as np\n",
        "import pandas as pd\n",
        "import matplotlib.pyplot as plt\n",
        "from bs4 import BeautifulSoup\n",
        "from tqdm import tqdm\n",
        "from nltk.stem import WordNetLemmatizer\n",
        "import nltk\n",
        "from bs4 import BeautifulSoup\n",
        "import re\n",
        "from nltk.corpus import stopwords\n",
        "from sklearn.feature_extraction.text import CountVectorizer\n",
        "from sklearn.naive_bayes import MultinomialNB\n",
        "from sklearn.model_selection import GridSearchCV\n",
        "import matplotlib.pyplot as plt\n",
        "from sklearn.metrics import accuracy_score\n",
        "from sklearn.metrics import classification_report\n",
        "from sklearn.metrics import accuracy_score\n",
        "from joblib import dump"
      ]
    },
    {
      "cell_type": "code",
      "execution_count": null,
      "metadata": {
        "colab": {
          "base_uri": "https://localhost:8080/",
          "height": 206
        },
        "id": "zwnN_CQGzRJM",
        "outputId": "6d41c4f5-1cdb-49e6-d6ef-21dcd0f67582"
      },
      "outputs": [
        {
          "data": {
            "text/html": [
              "\n",
              "  <div id=\"df-22226b5e-ee96-4657-9982-2fe78710b35a\">\n",
              "    <div class=\"colab-df-container\">\n",
              "      <div>\n",
              "<style scoped>\n",
              "    .dataframe tbody tr th:only-of-type {\n",
              "        vertical-align: middle;\n",
              "    }\n",
              "\n",
              "    .dataframe tbody tr th {\n",
              "        vertical-align: top;\n",
              "    }\n",
              "\n",
              "    .dataframe thead th {\n",
              "        text-align: right;\n",
              "    }\n",
              "</style>\n",
              "<table border=\"1\" class=\"dataframe\">\n",
              "  <thead>\n",
              "    <tr style=\"text-align: right;\">\n",
              "      <th></th>\n",
              "      <th>Review</th>\n",
              "      <th>Rating</th>\n",
              "    </tr>\n",
              "  </thead>\n",
              "  <tbody>\n",
              "    <tr>\n",
              "      <th>0</th>\n",
              "      <td>nice hotel expensive parking got good deal sta...</td>\n",
              "      <td>4.0</td>\n",
              "    </tr>\n",
              "    <tr>\n",
              "      <th>1</th>\n",
              "      <td>ok nothing special charge diamond member hilto...</td>\n",
              "      <td>2.0</td>\n",
              "    </tr>\n",
              "    <tr>\n",
              "      <th>2</th>\n",
              "      <td>nice rooms not 4* experience hotel monaco seat...</td>\n",
              "      <td>3.0</td>\n",
              "    </tr>\n",
              "    <tr>\n",
              "      <th>3</th>\n",
              "      <td>unique, great stay, wonderful time hotel monac...</td>\n",
              "      <td>5.0</td>\n",
              "    </tr>\n",
              "    <tr>\n",
              "      <th>4</th>\n",
              "      <td>great stay great stay, went seahawk game aweso...</td>\n",
              "      <td>5.0</td>\n",
              "    </tr>\n",
              "  </tbody>\n",
              "</table>\n",
              "</div>\n",
              "      <button class=\"colab-df-convert\" onclick=\"convertToInteractive('df-22226b5e-ee96-4657-9982-2fe78710b35a')\"\n",
              "              title=\"Convert this dataframe to an interactive table.\"\n",
              "              style=\"display:none;\">\n",
              "        \n",
              "  <svg xmlns=\"http://www.w3.org/2000/svg\" height=\"24px\"viewBox=\"0 0 24 24\"\n",
              "       width=\"24px\">\n",
              "    <path d=\"M0 0h24v24H0V0z\" fill=\"none\"/>\n",
              "    <path d=\"M18.56 5.44l.94 2.06.94-2.06 2.06-.94-2.06-.94-.94-2.06-.94 2.06-2.06.94zm-11 1L8.5 8.5l.94-2.06 2.06-.94-2.06-.94L8.5 2.5l-.94 2.06-2.06.94zm10 10l.94 2.06.94-2.06 2.06-.94-2.06-.94-.94-2.06-.94 2.06-2.06.94z\"/><path d=\"M17.41 7.96l-1.37-1.37c-.4-.4-.92-.59-1.43-.59-.52 0-1.04.2-1.43.59L10.3 9.45l-7.72 7.72c-.78.78-.78 2.05 0 2.83L4 21.41c.39.39.9.59 1.41.59.51 0 1.02-.2 1.41-.59l7.78-7.78 2.81-2.81c.8-.78.8-2.07 0-2.86zM5.41 20L4 18.59l7.72-7.72 1.47 1.35L5.41 20z\"/>\n",
              "  </svg>\n",
              "      </button>\n",
              "      \n",
              "  <style>\n",
              "    .colab-df-container {\n",
              "      display:flex;\n",
              "      flex-wrap:wrap;\n",
              "      gap: 12px;\n",
              "    }\n",
              "\n",
              "    .colab-df-convert {\n",
              "      background-color: #E8F0FE;\n",
              "      border: none;\n",
              "      border-radius: 50%;\n",
              "      cursor: pointer;\n",
              "      display: none;\n",
              "      fill: #1967D2;\n",
              "      height: 32px;\n",
              "      padding: 0 0 0 0;\n",
              "      width: 32px;\n",
              "    }\n",
              "\n",
              "    .colab-df-convert:hover {\n",
              "      background-color: #E2EBFA;\n",
              "      box-shadow: 0px 1px 2px rgba(60, 64, 67, 0.3), 0px 1px 3px 1px rgba(60, 64, 67, 0.15);\n",
              "      fill: #174EA6;\n",
              "    }\n",
              "\n",
              "    [theme=dark] .colab-df-convert {\n",
              "      background-color: #3B4455;\n",
              "      fill: #D2E3FC;\n",
              "    }\n",
              "\n",
              "    [theme=dark] .colab-df-convert:hover {\n",
              "      background-color: #434B5C;\n",
              "      box-shadow: 0px 1px 3px 1px rgba(0, 0, 0, 0.15);\n",
              "      filter: drop-shadow(0px 1px 2px rgba(0, 0, 0, 0.3));\n",
              "      fill: #FFFFFF;\n",
              "    }\n",
              "  </style>\n",
              "\n",
              "      <script>\n",
              "        const buttonEl =\n",
              "          document.querySelector('#df-22226b5e-ee96-4657-9982-2fe78710b35a button.colab-df-convert');\n",
              "        buttonEl.style.display =\n",
              "          google.colab.kernel.accessAllowed ? 'block' : 'none';\n",
              "\n",
              "        async function convertToInteractive(key) {\n",
              "          const element = document.querySelector('#df-22226b5e-ee96-4657-9982-2fe78710b35a');\n",
              "          const dataTable =\n",
              "            await google.colab.kernel.invokeFunction('convertToInteractive',\n",
              "                                                     [key], {});\n",
              "          if (!dataTable) return;\n",
              "\n",
              "          const docLinkHtml = 'Like what you see? Visit the ' +\n",
              "            '<a target=\"_blank\" href=https://colab.research.google.com/notebooks/data_table.ipynb>data table notebook</a>'\n",
              "            + ' to learn more about interactive tables.';\n",
              "          element.innerHTML = '';\n",
              "          dataTable['output_type'] = 'display_data';\n",
              "          await google.colab.output.renderOutput(dataTable, element);\n",
              "          const docLink = document.createElement('div');\n",
              "          docLink.innerHTML = docLinkHtml;\n",
              "          element.appendChild(docLink);\n",
              "        }\n",
              "      </script>\n",
              "    </div>\n",
              "  </div>\n",
              "  "
            ],
            "text/plain": [
              "                                              Review  Rating\n",
              "0  nice hotel expensive parking got good deal sta...     4.0\n",
              "1  ok nothing special charge diamond member hilto...     2.0\n",
              "2  nice rooms not 4* experience hotel monaco seat...     3.0\n",
              "3  unique, great stay, wonderful time hotel monac...     5.0\n",
              "4  great stay great stay, went seahawk game aweso...     5.0"
            ]
          },
          "execution_count": 2,
          "metadata": {},
          "output_type": "execute_result"
        }
      ],
      "source": [
        "#Loading the dataset\n",
        "data = pd.read_excel('hotel_reviews.xlsx') \n",
        "\n",
        "data.head()"
      ]
    },
    {
      "cell_type": "code",
      "execution_count": null,
      "metadata": {
        "id": "NOZZDqWe0zKZ"
      },
      "outputs": [],
      "source": [
        "# Creating a new column sentiment based on overall ratings\n",
        "def compute_sentiments(labels):\n",
        "  sentiments = []\n",
        "  for label in labels:\n",
        "    if label > 3.0:\n",
        "      sentiment = 1\n",
        "    elif label <= 3.0:\n",
        "      sentiment = 0\n",
        "    sentiments.append(sentiment)\n",
        "  return sentiments"
      ]
    },
    {
      "cell_type": "code",
      "execution_count": null,
      "metadata": {
        "id": "pIjR4QPo04Aw"
      },
      "outputs": [],
      "source": [
        "data['Rating'] = compute_sentiments(data.Rating)"
      ]
    },
    {
      "cell_type": "code",
      "execution_count": null,
      "metadata": {
        "colab": {
          "base_uri": "https://localhost:8080/",
          "height": 206
        },
        "id": "oBZofC_AiZ-g",
        "outputId": "e4abe800-074b-4472-ba75-3ead3effc339"
      },
      "outputs": [
        {
          "data": {
            "text/html": [
              "\n",
              "  <div id=\"df-c6ad59d0-d447-4f25-8d46-789b1d02e4b1\">\n",
              "    <div class=\"colab-df-container\">\n",
              "      <div>\n",
              "<style scoped>\n",
              "    .dataframe tbody tr th:only-of-type {\n",
              "        vertical-align: middle;\n",
              "    }\n",
              "\n",
              "    .dataframe tbody tr th {\n",
              "        vertical-align: top;\n",
              "    }\n",
              "\n",
              "    .dataframe thead th {\n",
              "        text-align: right;\n",
              "    }\n",
              "</style>\n",
              "<table border=\"1\" class=\"dataframe\">\n",
              "  <thead>\n",
              "    <tr style=\"text-align: right;\">\n",
              "      <th></th>\n",
              "      <th>Review</th>\n",
              "      <th>Sentiment</th>\n",
              "    </tr>\n",
              "  </thead>\n",
              "  <tbody>\n",
              "    <tr>\n",
              "      <th>0</th>\n",
              "      <td>nice hotel expensive parking got good deal sta...</td>\n",
              "      <td>1</td>\n",
              "    </tr>\n",
              "    <tr>\n",
              "      <th>1</th>\n",
              "      <td>ok nothing special charge diamond member hilto...</td>\n",
              "      <td>0</td>\n",
              "    </tr>\n",
              "    <tr>\n",
              "      <th>2</th>\n",
              "      <td>nice rooms not 4* experience hotel monaco seat...</td>\n",
              "      <td>0</td>\n",
              "    </tr>\n",
              "    <tr>\n",
              "      <th>3</th>\n",
              "      <td>unique, great stay, wonderful time hotel monac...</td>\n",
              "      <td>1</td>\n",
              "    </tr>\n",
              "    <tr>\n",
              "      <th>4</th>\n",
              "      <td>great stay great stay, went seahawk game aweso...</td>\n",
              "      <td>1</td>\n",
              "    </tr>\n",
              "  </tbody>\n",
              "</table>\n",
              "</div>\n",
              "      <button class=\"colab-df-convert\" onclick=\"convertToInteractive('df-c6ad59d0-d447-4f25-8d46-789b1d02e4b1')\"\n",
              "              title=\"Convert this dataframe to an interactive table.\"\n",
              "              style=\"display:none;\">\n",
              "        \n",
              "  <svg xmlns=\"http://www.w3.org/2000/svg\" height=\"24px\"viewBox=\"0 0 24 24\"\n",
              "       width=\"24px\">\n",
              "    <path d=\"M0 0h24v24H0V0z\" fill=\"none\"/>\n",
              "    <path d=\"M18.56 5.44l.94 2.06.94-2.06 2.06-.94-2.06-.94-.94-2.06-.94 2.06-2.06.94zm-11 1L8.5 8.5l.94-2.06 2.06-.94-2.06-.94L8.5 2.5l-.94 2.06-2.06.94zm10 10l.94 2.06.94-2.06 2.06-.94-2.06-.94-.94-2.06-.94 2.06-2.06.94z\"/><path d=\"M17.41 7.96l-1.37-1.37c-.4-.4-.92-.59-1.43-.59-.52 0-1.04.2-1.43.59L10.3 9.45l-7.72 7.72c-.78.78-.78 2.05 0 2.83L4 21.41c.39.39.9.59 1.41.59.51 0 1.02-.2 1.41-.59l7.78-7.78 2.81-2.81c.8-.78.8-2.07 0-2.86zM5.41 20L4 18.59l7.72-7.72 1.47 1.35L5.41 20z\"/>\n",
              "  </svg>\n",
              "      </button>\n",
              "      \n",
              "  <style>\n",
              "    .colab-df-container {\n",
              "      display:flex;\n",
              "      flex-wrap:wrap;\n",
              "      gap: 12px;\n",
              "    }\n",
              "\n",
              "    .colab-df-convert {\n",
              "      background-color: #E8F0FE;\n",
              "      border: none;\n",
              "      border-radius: 50%;\n",
              "      cursor: pointer;\n",
              "      display: none;\n",
              "      fill: #1967D2;\n",
              "      height: 32px;\n",
              "      padding: 0 0 0 0;\n",
              "      width: 32px;\n",
              "    }\n",
              "\n",
              "    .colab-df-convert:hover {\n",
              "      background-color: #E2EBFA;\n",
              "      box-shadow: 0px 1px 2px rgba(60, 64, 67, 0.3), 0px 1px 3px 1px rgba(60, 64, 67, 0.15);\n",
              "      fill: #174EA6;\n",
              "    }\n",
              "\n",
              "    [theme=dark] .colab-df-convert {\n",
              "      background-color: #3B4455;\n",
              "      fill: #D2E3FC;\n",
              "    }\n",
              "\n",
              "    [theme=dark] .colab-df-convert:hover {\n",
              "      background-color: #434B5C;\n",
              "      box-shadow: 0px 1px 3px 1px rgba(0, 0, 0, 0.15);\n",
              "      filter: drop-shadow(0px 1px 2px rgba(0, 0, 0, 0.3));\n",
              "      fill: #FFFFFF;\n",
              "    }\n",
              "  </style>\n",
              "\n",
              "      <script>\n",
              "        const buttonEl =\n",
              "          document.querySelector('#df-c6ad59d0-d447-4f25-8d46-789b1d02e4b1 button.colab-df-convert');\n",
              "        buttonEl.style.display =\n",
              "          google.colab.kernel.accessAllowed ? 'block' : 'none';\n",
              "\n",
              "        async function convertToInteractive(key) {\n",
              "          const element = document.querySelector('#df-c6ad59d0-d447-4f25-8d46-789b1d02e4b1');\n",
              "          const dataTable =\n",
              "            await google.colab.kernel.invokeFunction('convertToInteractive',\n",
              "                                                     [key], {});\n",
              "          if (!dataTable) return;\n",
              "\n",
              "          const docLinkHtml = 'Like what you see? Visit the ' +\n",
              "            '<a target=\"_blank\" href=https://colab.research.google.com/notebooks/data_table.ipynb>data table notebook</a>'\n",
              "            + ' to learn more about interactive tables.';\n",
              "          element.innerHTML = '';\n",
              "          dataTable['output_type'] = 'display_data';\n",
              "          await google.colab.output.renderOutput(dataTable, element);\n",
              "          const docLink = document.createElement('div');\n",
              "          docLink.innerHTML = docLinkHtml;\n",
              "          element.appendChild(docLink);\n",
              "        }\n",
              "      </script>\n",
              "    </div>\n",
              "  </div>\n",
              "  "
            ],
            "text/plain": [
              "                                              Review  Sentiment\n",
              "0  nice hotel expensive parking got good deal sta...          1\n",
              "1  ok nothing special charge diamond member hilto...          0\n",
              "2  nice rooms not 4* experience hotel monaco seat...          0\n",
              "3  unique, great stay, wonderful time hotel monac...          1\n",
              "4  great stay great stay, went seahawk game aweso...          1"
            ]
          },
          "execution_count": 9,
          "metadata": {},
          "output_type": "execute_result"
        }
      ],
      "source": [
        "data.columns = ['Review', 'Sentiment']\n",
        "\n",
        "data.head()"
      ]
    },
    {
      "cell_type": "code",
      "execution_count": null,
      "metadata": {
        "colab": {
          "base_uri": "https://localhost:8080/"
        },
        "id": "tmBZbWOCR-p3",
        "outputId": "ecb70fbd-a5dc-418f-cdf6-ab35a789f37d"
      },
      "outputs": [
        {
          "data": {
            "text/plain": [
              "1    15093\n",
              "0     5398\n",
              "Name: Sentiment, dtype: int64"
            ]
          },
          "execution_count": 10,
          "metadata": {},
          "output_type": "execute_result"
        }
      ],
      "source": [
        "# check distribution of sentiments\n",
        "\n",
        "data['Sentiment'].value_counts()"
      ]
    },
    {
      "cell_type": "code",
      "execution_count": null,
      "metadata": {
        "colab": {
          "base_uri": "https://localhost:8080/"
        },
        "id": "_Cuulg5nT9Fd",
        "outputId": "fba89395-65eb-4f79-96de-d9e148293a37"
      },
      "outputs": [
        {
          "data": {
            "text/plain": [
              "Review       0\n",
              "Sentiment    0\n",
              "dtype: int64"
            ]
          },
          "execution_count": 12,
          "metadata": {},
          "output_type": "execute_result"
        }
      ],
      "source": [
        "# check for null values\n",
        "data.isnull().sum()\n",
        "\n",
        "# no null values in the data"
      ]
    },
    {
      "cell_type": "markdown",
      "metadata": {
        "id": "48alrwKajcsB"
      },
      "source": [
        "### Data Cleaning"
      ]
    },
    {
      "cell_type": "code",
      "execution_count": null,
      "metadata": {
        "colab": {
          "base_uri": "https://localhost:8080/",
          "height": 140
        },
        "id": "qW0bu3tLjZDf",
        "outputId": "4c83eee9-e374-471e-c04c-7b5eb1e91bf8"
      },
      "outputs": [
        {
          "data": {
            "application/vnd.google.colaboratory.intrinsic+json": {
              "type": "string"
            },
            "text/plain": [
              "'ok nothing special charge diamond member hilton decided chain shot 20th anniversary seattle, start booked suite paid extra website description not, suite bedroom bathroom standard hotel room, took printed reservation desk showed said things like tv couch ect desk clerk told oh mixed suites description kimpton website sorry free breakfast, got kidding, embassy suits sitting room bathroom bedroom unlike kimpton calls suite, 5 day stay offer correct false advertising, send kimpton preferred guest website email asking failure provide suite advertised website reservation description furnished hard copy reservation printout website desk manager duty did not reply solution, send email trip guest survey did not follow email mail, guess tell concerned guest.the staff ranged indifferent not helpful, asked desk good breakfast spots neighborhood hood told no hotels, gee best breakfast spots seattle 1/2 block away convenient hotel does not know exist, arrived late night 11 pm inside run bellman busy chating cell phone help bags.prior arrival emailed hotel inform 20th anniversary half really picky wanted make sure good, got nice email saying like deliver bottle champagne chocolate covered strawberries room arrival celebrate, told needed foam pillows, arrival no champagne strawberries no foam pillows great room view alley high rise building good not better housekeeping staff cleaner room property, impressed left morning shopping room got short trips 2 hours, beds comfortable.not good ac-heat control 4 x 4 inch screen bring green shine directly eyes night, light sensitive tape controls.this not 4 start hotel clean business hotel super high rates, better chain hotels seattle,  '"
            ]
          },
          "execution_count": 18,
          "metadata": {},
          "output_type": "execute_result"
        }
      ],
      "source": [
        "text = data[\"Review\"][1]\n",
        "text"
      ]
    },
    {
      "cell_type": "code",
      "execution_count": null,
      "metadata": {
        "colab": {
          "base_uri": "https://localhost:8080/",
          "height": 140
        },
        "id": "XbIGhtKykP7i",
        "outputId": "a788a2da-ccc3-4982-ee47-12e430a17147"
      },
      "outputs": [
        {
          "data": {
            "application/vnd.google.colaboratory.intrinsic+json": {
              "type": "string"
            },
            "text/plain": [
              "'ok nothing special charge diamond member hilton decided chain shot 20th anniversary seattle, start booked suite paid extra website description not, suite bedroom bathroom standard hotel room, took printed reservation desk showed said things like tv couch ect desk clerk told oh mixed suites description kimpton website sorry free breakfast, got kidding, embassy suits sitting room bathroom bedroom unlike kimpton calls suite, 5 day stay offer correct false advertising, send kimpton preferred guest website email asking failure provide suite advertised website reservation description furnished hard copy reservation printout website desk manager duty did not reply solution, send email trip guest survey did not follow email mail, guess tell concerned guest.the staff ranged indifferent not helpful, asked desk good breakfast spots neighborhood hood told no hotels, gee best breakfast spots seattle 1/2 block away convenient hotel does not know exist, arrived late night 11 pm inside run bellman busy chating cell phone help bags.prior arrival emailed hotel inform 20th anniversary half really picky wanted make sure good, got nice email saying like deliver bottle champagne chocolate covered strawberries room arrival celebrate, told needed foam pillows, arrival no champagne strawberries no foam pillows great room view alley high rise building good not better housekeeping staff cleaner room property, impressed left morning shopping room got short trips 2 hours, beds comfortable.not good ac-heat control 4 x 4 inch screen bring green shine directly eyes night, light sensitive tape controls.this not 4 start hotel clean business hotel super high rates, better chain hotels seattle,  '"
            ]
          },
          "execution_count": 21,
          "metadata": {},
          "output_type": "execute_result"
        }
      ],
      "source": [
        "cleantext = BeautifulSoup(text, \"lxml\").text\n",
        "cleantext"
      ]
    },
    {
      "cell_type": "code",
      "execution_count": null,
      "metadata": {
        "colab": {
          "base_uri": "https://localhost:8080/",
          "height": 140
        },
        "id": "mc2FjRKukeY3",
        "outputId": "668ac0e0-8767-4d96-f04e-cc9aeb27126b"
      },
      "outputs": [
        {
          "data": {
            "application/vnd.google.colaboratory.intrinsic+json": {
              "type": "string"
            },
            "text/plain": [
              "'ok nothing special charge diamond member hilton decided chain shot 20th anniversary seattle start booked suite paid extra website description not suite bedroom bathroom standard hotel room took printed reservation desk showed said things like tv couch ect desk clerk told oh mixed suites description kimpton website sorry free breakfast got kidding embassy suits sitting room bathroom bedroom unlike kimpton calls suite 5 day stay offer correct false advertising send kimpton preferred guest website email asking failure provide suite advertised website reservation description furnished hard copy reservation printout website desk manager duty did not reply solution send email trip guest survey did not follow email mail guess tell concerned guestthe staff ranged indifferent not helpful asked desk good breakfast spots neighborhood hood told no hotels gee best breakfast spots seattle 12 block away convenient hotel does not know exist arrived late night 11 pm inside run bellman busy chating cell phone help bagsprior arrival emailed hotel inform 20th anniversary half really picky wanted make sure good got nice email saying like deliver bottle champagne chocolate covered strawberries room arrival celebrate told needed foam pillows arrival no champagne strawberries no foam pillows great room view alley high rise building good not better housekeeping staff cleaner room property impressed left morning shopping room got short trips 2 hours beds comfortablenot good acheat control 4 x 4 inch screen bring green shine directly eyes night light sensitive tape controlsthis not 4 start hotel clean business hotel super high rates better chain hotels seattle  '"
            ]
          },
          "execution_count": 24,
          "metadata": {},
          "output_type": "execute_result"
        }
      ],
      "source": [
        "#https://stackoverflow.com/questions/265960/best-way-to-strip-punctuation-from-a-string\n",
        "cleantext = re.sub(r'[^\\w\\s]','',cleantext)\n",
        "cleantext"
      ]
    },
    {
      "cell_type": "code",
      "execution_count": null,
      "metadata": {
        "colab": {
          "base_uri": "https://localhost:8080/"
        },
        "id": "AMKFXph5kfxZ",
        "outputId": "024e6f3f-0e56-424c-9845-14016ae9abd0"
      },
      "outputs": [
        {
          "name": "stderr",
          "output_type": "stream",
          "text": [
            "[nltk_data] Downloading package stopwords to /root/nltk_data...\n",
            "[nltk_data]   Unzipping corpora/stopwords.zip.\n"
          ]
        },
        {
          "data": {
            "text/plain": [
              "True"
            ]
          },
          "execution_count": 25,
          "metadata": {},
          "output_type": "execute_result"
        }
      ],
      "source": [
        "nltk.download('stopwords')"
      ]
    },
    {
      "cell_type": "code",
      "execution_count": null,
      "metadata": {
        "colab": {
          "base_uri": "https://localhost:8080/"
        },
        "id": "xpn50VvGkf9a",
        "outputId": "e5692cfe-153a-46e5-fe42-2cc9bfdff974"
      },
      "outputs": [
        {
          "name": "stdout",
          "output_type": "stream",
          "text": [
            "['i', 'me', 'my', 'myself', 'we', 'our', 'ours', 'ourselves', 'you', \"you're\", \"you've\", \"you'll\", \"you'd\", 'your', 'yours', 'yourself', 'yourselves', 'he', 'him', 'his', 'himself', 'she', \"she's\", 'her', 'hers', 'herself', 'it', \"it's\", 'its', 'itself', 'they', 'them', 'their', 'theirs', 'themselves', 'what', 'which', 'who', 'whom', 'this', 'that', \"that'll\", 'these', 'those', 'am', 'is', 'are', 'was', 'were', 'be', 'been', 'being', 'have', 'has', 'had', 'having', 'do', 'does', 'did', 'doing', 'a', 'an', 'the', 'and', 'but', 'if', 'or', 'because', 'as', 'until', 'while', 'of', 'at', 'by', 'for', 'with', 'about', 'against', 'between', 'into', 'through', 'during', 'before', 'after', 'above', 'below', 'to', 'from', 'up', 'down', 'in', 'out', 'on', 'off', 'over', 'under', 'again', 'further', 'then', 'once', 'here', 'there', 'when', 'where', 'why', 'how', 'all', 'any', 'both', 'each', 'few', 'more', 'most', 'other', 'some', 'such', 'no', 'nor', 'not', 'only', 'own', 'same', 'so', 'than', 'too', 'very', 's', 't', 'can', 'will', 'just', 'don', \"don't\", 'should', \"should've\", 'now', 'd', 'll', 'm', 'o', 're', 've', 'y', 'ain', 'aren', \"aren't\", 'couldn', \"couldn't\", 'didn', \"didn't\", 'doesn', \"doesn't\", 'hadn', \"hadn't\", 'hasn', \"hasn't\", 'haven', \"haven't\", 'isn', \"isn't\", 'ma', 'mightn', \"mightn't\", 'mustn', \"mustn't\", 'needn', \"needn't\", 'shan', \"shan't\", 'shouldn', \"shouldn't\", 'wasn', \"wasn't\", 'weren', \"weren't\", 'won', \"won't\", 'wouldn', \"wouldn't\"]\n"
          ]
        }
      ],
      "source": [
        "print(stopwords.words('english'))"
      ]
    },
    {
      "cell_type": "code",
      "execution_count": null,
      "metadata": {
        "id": "kAKIPDTTkgEn"
      },
      "outputs": [],
      "source": [
        "cleantext= cleantext.lower()\n",
        "stopword = set(stopwords.words('english'))\n",
        "tokens= cleantext.split()\n",
        "token_list = []\n",
        "for token in tokens:\n",
        "    if token not in stopword:\n",
        "        token_list.append(token)\n",
        "     \n"
      ]
    },
    {
      "cell_type": "code",
      "execution_count": null,
      "metadata": {
        "id": "MLl3p8w4kgLv"
      },
      "outputs": [],
      "source": [
        "stopword = set(stopwords.words('english'))"
      ]
    },
    {
      "cell_type": "code",
      "execution_count": null,
      "metadata": {
        "colab": {
          "base_uri": "https://localhost:8080/"
        },
        "id": "MTiBAX2TkgRI",
        "outputId": "a3292d06-eb5e-4d01-e90a-79dca423a181"
      },
      "outputs": [
        {
          "data": {
            "text/plain": [
              "['ok',\n",
              " 'nothing',\n",
              " 'special',\n",
              " 'charge',\n",
              " 'diamond',\n",
              " 'member',\n",
              " 'hilton',\n",
              " 'decided',\n",
              " 'chain',\n",
              " 'shot',\n",
              " '20th',\n",
              " 'anniversary',\n",
              " 'seattle',\n",
              " 'start',\n",
              " 'booked',\n",
              " 'suite',\n",
              " 'paid',\n",
              " 'extra',\n",
              " 'website',\n",
              " 'description',\n",
              " 'suite',\n",
              " 'bedroom',\n",
              " 'bathroom',\n",
              " 'standard',\n",
              " 'hotel',\n",
              " 'room',\n",
              " 'took',\n",
              " 'printed',\n",
              " 'reservation',\n",
              " 'desk',\n",
              " 'showed',\n",
              " 'said',\n",
              " 'things',\n",
              " 'like',\n",
              " 'tv',\n",
              " 'couch',\n",
              " 'ect',\n",
              " 'desk',\n",
              " 'clerk',\n",
              " 'told',\n",
              " 'oh',\n",
              " 'mixed',\n",
              " 'suites',\n",
              " 'description',\n",
              " 'kimpton',\n",
              " 'website',\n",
              " 'sorry',\n",
              " 'free',\n",
              " 'breakfast',\n",
              " 'got',\n",
              " 'kidding',\n",
              " 'embassy',\n",
              " 'suits',\n",
              " 'sitting',\n",
              " 'room',\n",
              " 'bathroom',\n",
              " 'bedroom',\n",
              " 'unlike',\n",
              " 'kimpton',\n",
              " 'calls',\n",
              " 'suite',\n",
              " '5',\n",
              " 'day',\n",
              " 'stay',\n",
              " 'offer',\n",
              " 'correct',\n",
              " 'false',\n",
              " 'advertising',\n",
              " 'send',\n",
              " 'kimpton',\n",
              " 'preferred',\n",
              " 'guest',\n",
              " 'website',\n",
              " 'email',\n",
              " 'asking',\n",
              " 'failure',\n",
              " 'provide',\n",
              " 'suite',\n",
              " 'advertised',\n",
              " 'website',\n",
              " 'reservation',\n",
              " 'description',\n",
              " 'furnished',\n",
              " 'hard',\n",
              " 'copy',\n",
              " 'reservation',\n",
              " 'printout',\n",
              " 'website',\n",
              " 'desk',\n",
              " 'manager',\n",
              " 'duty',\n",
              " 'reply',\n",
              " 'solution',\n",
              " 'send',\n",
              " 'email',\n",
              " 'trip',\n",
              " 'guest',\n",
              " 'survey',\n",
              " 'follow',\n",
              " 'email',\n",
              " 'mail',\n",
              " 'guess',\n",
              " 'tell',\n",
              " 'concerned',\n",
              " 'guestthe',\n",
              " 'staff',\n",
              " 'ranged',\n",
              " 'indifferent',\n",
              " 'helpful',\n",
              " 'asked',\n",
              " 'desk',\n",
              " 'good',\n",
              " 'breakfast',\n",
              " 'spots',\n",
              " 'neighborhood',\n",
              " 'hood',\n",
              " 'told',\n",
              " 'hotels',\n",
              " 'gee',\n",
              " 'best',\n",
              " 'breakfast',\n",
              " 'spots',\n",
              " 'seattle',\n",
              " '12',\n",
              " 'block',\n",
              " 'away',\n",
              " 'convenient',\n",
              " 'hotel',\n",
              " 'know',\n",
              " 'exist',\n",
              " 'arrived',\n",
              " 'late',\n",
              " 'night',\n",
              " '11',\n",
              " 'pm',\n",
              " 'inside',\n",
              " 'run',\n",
              " 'bellman',\n",
              " 'busy',\n",
              " 'chating',\n",
              " 'cell',\n",
              " 'phone',\n",
              " 'help',\n",
              " 'bagsprior',\n",
              " 'arrival',\n",
              " 'emailed',\n",
              " 'hotel',\n",
              " 'inform',\n",
              " '20th',\n",
              " 'anniversary',\n",
              " 'half',\n",
              " 'really',\n",
              " 'picky',\n",
              " 'wanted',\n",
              " 'make',\n",
              " 'sure',\n",
              " 'good',\n",
              " 'got',\n",
              " 'nice',\n",
              " 'email',\n",
              " 'saying',\n",
              " 'like',\n",
              " 'deliver',\n",
              " 'bottle',\n",
              " 'champagne',\n",
              " 'chocolate',\n",
              " 'covered',\n",
              " 'strawberries',\n",
              " 'room',\n",
              " 'arrival',\n",
              " 'celebrate',\n",
              " 'told',\n",
              " 'needed',\n",
              " 'foam',\n",
              " 'pillows',\n",
              " 'arrival',\n",
              " 'champagne',\n",
              " 'strawberries',\n",
              " 'foam',\n",
              " 'pillows',\n",
              " 'great',\n",
              " 'room',\n",
              " 'view',\n",
              " 'alley',\n",
              " 'high',\n",
              " 'rise',\n",
              " 'building',\n",
              " 'good',\n",
              " 'better',\n",
              " 'housekeeping',\n",
              " 'staff',\n",
              " 'cleaner',\n",
              " 'room',\n",
              " 'property',\n",
              " 'impressed',\n",
              " 'left',\n",
              " 'morning',\n",
              " 'shopping',\n",
              " 'room',\n",
              " 'got',\n",
              " 'short',\n",
              " 'trips',\n",
              " '2',\n",
              " 'hours',\n",
              " 'beds',\n",
              " 'comfortablenot',\n",
              " 'good',\n",
              " 'acheat',\n",
              " 'control',\n",
              " '4',\n",
              " 'x',\n",
              " '4',\n",
              " 'inch',\n",
              " 'screen',\n",
              " 'bring',\n",
              " 'green',\n",
              " 'shine',\n",
              " 'directly',\n",
              " 'eyes',\n",
              " 'night',\n",
              " 'light',\n",
              " 'sensitive',\n",
              " 'tape',\n",
              " 'controlsthis',\n",
              " '4',\n",
              " 'start',\n",
              " 'hotel',\n",
              " 'clean',\n",
              " 'business',\n",
              " 'hotel',\n",
              " 'super',\n",
              " 'high',\n",
              " 'rates',\n",
              " 'better',\n",
              " 'chain',\n",
              " 'hotels',\n",
              " 'seattle']"
            ]
          },
          "execution_count": 29,
          "metadata": {},
          "output_type": "execute_result"
        }
      ],
      "source": [
        "\n",
        "token_list"
      ]
    },
    {
      "cell_type": "code",
      "execution_count": null,
      "metadata": {
        "id": "90-eby_4kgWh"
      },
      "outputs": [],
      "source": [
        "lemmatizer = WordNetLemmatizer()"
      ]
    },
    {
      "cell_type": "code",
      "execution_count": null,
      "metadata": {
        "colab": {
          "base_uri": "https://localhost:8080/"
        },
        "id": "GhQAG3GVkggB",
        "outputId": "fc4625b1-24a9-4f4b-8436-07cbb6bd91eb"
      },
      "outputs": [
        {
          "name": "stderr",
          "output_type": "stream",
          "text": [
            "[nltk_data] Downloading package wordnet to /root/nltk_data...\n",
            "[nltk_data] Downloading package omw-1.4 to /root/nltk_data...\n"
          ]
        },
        {
          "data": {
            "text/plain": [
              "True"
            ]
          },
          "execution_count": 31,
          "metadata": {},
          "output_type": "execute_result"
        }
      ],
      "source": [
        "import nltk\n",
        "nltk.download('wordnet')\n",
        "nltk.download('omw-1.4')"
      ]
    },
    {
      "cell_type": "code",
      "execution_count": null,
      "metadata": {
        "colab": {
          "base_uri": "https://localhost:8080/",
          "height": 36
        },
        "id": "FfzuVn2_nbCZ",
        "outputId": "66df1dd7-b9d6-4ee3-cb0a-2ab736792115"
      },
      "outputs": [
        {
          "data": {
            "application/vnd.google.colaboratory.intrinsic+json": {
              "type": "string"
            },
            "text/plain": [
              "'hotel'"
            ]
          },
          "execution_count": 32,
          "metadata": {},
          "output_type": "execute_result"
        }
      ],
      "source": [
        "lemmatizer.lemmatize(\"hotels\")"
      ]
    },
    {
      "cell_type": "code",
      "execution_count": null,
      "metadata": {
        "colab": {
          "base_uri": "https://localhost:8080/"
        },
        "id": "yExKfC52nbRO",
        "outputId": "5bd72032-fccd-4a7c-a43a-0b3b3fa842cf"
      },
      "outputs": [
        {
          "data": {
            "text/plain": [
              "['ok',\n",
              " 'nothing',\n",
              " 'special',\n",
              " 'charge',\n",
              " 'diamond',\n",
              " 'member',\n",
              " 'hilton',\n",
              " 'decided',\n",
              " 'chain',\n",
              " 'shot',\n",
              " '20th',\n",
              " 'anniversary',\n",
              " 'seattle',\n",
              " 'start',\n",
              " 'booked',\n",
              " 'suite',\n",
              " 'paid',\n",
              " 'extra',\n",
              " 'website',\n",
              " 'description',\n",
              " 'suite',\n",
              " 'bedroom',\n",
              " 'bathroom',\n",
              " 'standard',\n",
              " 'hotel',\n",
              " 'room',\n",
              " 'took',\n",
              " 'printed',\n",
              " 'reservation',\n",
              " 'desk',\n",
              " 'showed',\n",
              " 'said',\n",
              " 'thing',\n",
              " 'like',\n",
              " 'tv',\n",
              " 'couch',\n",
              " 'ect',\n",
              " 'desk',\n",
              " 'clerk',\n",
              " 'told',\n",
              " 'oh',\n",
              " 'mixed',\n",
              " 'suite',\n",
              " 'description',\n",
              " 'kimpton',\n",
              " 'website',\n",
              " 'sorry',\n",
              " 'free',\n",
              " 'breakfast',\n",
              " 'got',\n",
              " 'kidding',\n",
              " 'embassy',\n",
              " 'suit',\n",
              " 'sitting',\n",
              " 'room',\n",
              " 'bathroom',\n",
              " 'bedroom',\n",
              " 'unlike',\n",
              " 'kimpton',\n",
              " 'call',\n",
              " 'suite',\n",
              " '5',\n",
              " 'day',\n",
              " 'stay',\n",
              " 'offer',\n",
              " 'correct',\n",
              " 'false',\n",
              " 'advertising',\n",
              " 'send',\n",
              " 'kimpton',\n",
              " 'preferred',\n",
              " 'guest',\n",
              " 'website',\n",
              " 'email',\n",
              " 'asking',\n",
              " 'failure',\n",
              " 'provide',\n",
              " 'suite',\n",
              " 'advertised',\n",
              " 'website',\n",
              " 'reservation',\n",
              " 'description',\n",
              " 'furnished',\n",
              " 'hard',\n",
              " 'copy',\n",
              " 'reservation',\n",
              " 'printout',\n",
              " 'website',\n",
              " 'desk',\n",
              " 'manager',\n",
              " 'duty',\n",
              " 'reply',\n",
              " 'solution',\n",
              " 'send',\n",
              " 'email',\n",
              " 'trip',\n",
              " 'guest',\n",
              " 'survey',\n",
              " 'follow',\n",
              " 'email',\n",
              " 'mail',\n",
              " 'guess',\n",
              " 'tell',\n",
              " 'concerned',\n",
              " 'guestthe',\n",
              " 'staff',\n",
              " 'ranged',\n",
              " 'indifferent',\n",
              " 'helpful',\n",
              " 'asked',\n",
              " 'desk',\n",
              " 'good',\n",
              " 'breakfast',\n",
              " 'spot',\n",
              " 'neighborhood',\n",
              " 'hood',\n",
              " 'told',\n",
              " 'hotel',\n",
              " 'gee',\n",
              " 'best',\n",
              " 'breakfast',\n",
              " 'spot',\n",
              " 'seattle',\n",
              " '12',\n",
              " 'block',\n",
              " 'away',\n",
              " 'convenient',\n",
              " 'hotel',\n",
              " 'know',\n",
              " 'exist',\n",
              " 'arrived',\n",
              " 'late',\n",
              " 'night',\n",
              " '11',\n",
              " 'pm',\n",
              " 'inside',\n",
              " 'run',\n",
              " 'bellman',\n",
              " 'busy',\n",
              " 'chating',\n",
              " 'cell',\n",
              " 'phone',\n",
              " 'help',\n",
              " 'bagsprior',\n",
              " 'arrival',\n",
              " 'emailed',\n",
              " 'hotel',\n",
              " 'inform',\n",
              " '20th',\n",
              " 'anniversary',\n",
              " 'half',\n",
              " 'really',\n",
              " 'picky',\n",
              " 'wanted',\n",
              " 'make',\n",
              " 'sure',\n",
              " 'good',\n",
              " 'got',\n",
              " 'nice',\n",
              " 'email',\n",
              " 'saying',\n",
              " 'like',\n",
              " 'deliver',\n",
              " 'bottle',\n",
              " 'champagne',\n",
              " 'chocolate',\n",
              " 'covered',\n",
              " 'strawberry',\n",
              " 'room',\n",
              " 'arrival',\n",
              " 'celebrate',\n",
              " 'told',\n",
              " 'needed',\n",
              " 'foam',\n",
              " 'pillow',\n",
              " 'arrival',\n",
              " 'champagne',\n",
              " 'strawberry',\n",
              " 'foam',\n",
              " 'pillow',\n",
              " 'great',\n",
              " 'room',\n",
              " 'view',\n",
              " 'alley',\n",
              " 'high',\n",
              " 'rise',\n",
              " 'building',\n",
              " 'good',\n",
              " 'better',\n",
              " 'housekeeping',\n",
              " 'staff',\n",
              " 'cleaner',\n",
              " 'room',\n",
              " 'property',\n",
              " 'impressed',\n",
              " 'left',\n",
              " 'morning',\n",
              " 'shopping',\n",
              " 'room',\n",
              " 'got',\n",
              " 'short',\n",
              " 'trip',\n",
              " '2',\n",
              " 'hour',\n",
              " 'bed',\n",
              " 'comfortablenot',\n",
              " 'good',\n",
              " 'acheat',\n",
              " 'control',\n",
              " '4',\n",
              " 'x',\n",
              " '4',\n",
              " 'inch',\n",
              " 'screen',\n",
              " 'bring',\n",
              " 'green',\n",
              " 'shine',\n",
              " 'directly',\n",
              " 'eye',\n",
              " 'night',\n",
              " 'light',\n",
              " 'sensitive',\n",
              " 'tape',\n",
              " 'controlsthis',\n",
              " '4',\n",
              " 'start',\n",
              " 'hotel',\n",
              " 'clean',\n",
              " 'business',\n",
              " 'hotel',\n",
              " 'super',\n",
              " 'high',\n",
              " 'rate',\n",
              " 'better',\n",
              " 'chain',\n",
              " 'hotel',\n",
              " 'seattle']"
            ]
          },
          "execution_count": 33,
          "metadata": {},
          "output_type": "execute_result"
        }
      ],
      "source": [
        "[lemmatizer.lemmatize(token) for token in token_list]"
      ]
    },
    {
      "cell_type": "code",
      "execution_count": null,
      "metadata": {
        "colab": {
          "base_uri": "https://localhost:8080/"
        },
        "id": "nHCZyrtenbYe",
        "outputId": "c3d5db9b-1dc5-4c81-aaec-16a6c8cee473"
      },
      "outputs": [
        {
          "data": {
            "text/plain": [
              "['ok',\n",
              " 'nothing',\n",
              " 'special',\n",
              " 'charge',\n",
              " 'diamond',\n",
              " 'member',\n",
              " 'hilton',\n",
              " 'decided',\n",
              " 'chain',\n",
              " 'shot',\n",
              " '20th',\n",
              " 'anniversary',\n",
              " 'seattle',\n",
              " 'start',\n",
              " 'booked',\n",
              " 'suite',\n",
              " 'paid',\n",
              " 'extra',\n",
              " 'website',\n",
              " 'description',\n",
              " 'suite',\n",
              " 'bedroom',\n",
              " 'bathroom',\n",
              " 'standard',\n",
              " 'hotel',\n",
              " 'room',\n",
              " 'took',\n",
              " 'printed',\n",
              " 'reservation',\n",
              " 'desk',\n",
              " 'showed',\n",
              " 'said',\n",
              " 'thing',\n",
              " 'like',\n",
              " 'tv',\n",
              " 'couch',\n",
              " 'ect',\n",
              " 'desk',\n",
              " 'clerk',\n",
              " 'told',\n",
              " 'oh',\n",
              " 'mixed',\n",
              " 'suite',\n",
              " 'description',\n",
              " 'kimpton',\n",
              " 'website',\n",
              " 'sorry',\n",
              " 'free',\n",
              " 'breakfast',\n",
              " 'got',\n",
              " 'kidding',\n",
              " 'embassy',\n",
              " 'suit',\n",
              " 'sitting',\n",
              " 'room',\n",
              " 'bathroom',\n",
              " 'bedroom',\n",
              " 'unlike',\n",
              " 'kimpton',\n",
              " 'call',\n",
              " 'suite',\n",
              " '5',\n",
              " 'day',\n",
              " 'stay',\n",
              " 'offer',\n",
              " 'correct',\n",
              " 'false',\n",
              " 'advertising',\n",
              " 'send',\n",
              " 'kimpton',\n",
              " 'preferred',\n",
              " 'guest',\n",
              " 'website',\n",
              " 'email',\n",
              " 'asking',\n",
              " 'failure',\n",
              " 'provide',\n",
              " 'suite',\n",
              " 'advertised',\n",
              " 'website',\n",
              " 'reservation',\n",
              " 'description',\n",
              " 'furnished',\n",
              " 'hard',\n",
              " 'copy',\n",
              " 'reservation',\n",
              " 'printout',\n",
              " 'website',\n",
              " 'desk',\n",
              " 'manager',\n",
              " 'duty',\n",
              " 'reply',\n",
              " 'solution',\n",
              " 'send',\n",
              " 'email',\n",
              " 'trip',\n",
              " 'guest',\n",
              " 'survey',\n",
              " 'follow',\n",
              " 'email',\n",
              " 'mail',\n",
              " 'guess',\n",
              " 'tell',\n",
              " 'concerned',\n",
              " 'guestthe',\n",
              " 'staff',\n",
              " 'ranged',\n",
              " 'indifferent',\n",
              " 'helpful',\n",
              " 'asked',\n",
              " 'desk',\n",
              " 'good',\n",
              " 'breakfast',\n",
              " 'spot',\n",
              " 'neighborhood',\n",
              " 'hood',\n",
              " 'told',\n",
              " 'hotel',\n",
              " 'gee',\n",
              " 'best',\n",
              " 'breakfast',\n",
              " 'spot',\n",
              " 'seattle',\n",
              " '12',\n",
              " 'block',\n",
              " 'away',\n",
              " 'convenient',\n",
              " 'hotel',\n",
              " 'know',\n",
              " 'exist',\n",
              " 'arrived',\n",
              " 'late',\n",
              " 'night',\n",
              " '11',\n",
              " 'pm',\n",
              " 'inside',\n",
              " 'run',\n",
              " 'bellman',\n",
              " 'busy',\n",
              " 'chating',\n",
              " 'cell',\n",
              " 'phone',\n",
              " 'help',\n",
              " 'bagsprior',\n",
              " 'arrival',\n",
              " 'emailed',\n",
              " 'hotel',\n",
              " 'inform',\n",
              " '20th',\n",
              " 'anniversary',\n",
              " 'half',\n",
              " 'really',\n",
              " 'picky',\n",
              " 'wanted',\n",
              " 'make',\n",
              " 'sure',\n",
              " 'good',\n",
              " 'got',\n",
              " 'nice',\n",
              " 'email',\n",
              " 'saying',\n",
              " 'like',\n",
              " 'deliver',\n",
              " 'bottle',\n",
              " 'champagne',\n",
              " 'chocolate',\n",
              " 'covered',\n",
              " 'strawberry',\n",
              " 'room',\n",
              " 'arrival',\n",
              " 'celebrate',\n",
              " 'told',\n",
              " 'needed',\n",
              " 'foam',\n",
              " 'pillow',\n",
              " 'arrival',\n",
              " 'champagne',\n",
              " 'strawberry',\n",
              " 'foam',\n",
              " 'pillow',\n",
              " 'great',\n",
              " 'room',\n",
              " 'view',\n",
              " 'alley',\n",
              " 'high',\n",
              " 'rise',\n",
              " 'building',\n",
              " 'good',\n",
              " 'better',\n",
              " 'housekeeping',\n",
              " 'staff',\n",
              " 'cleaner',\n",
              " 'room',\n",
              " 'property',\n",
              " 'impressed',\n",
              " 'left',\n",
              " 'morning',\n",
              " 'shopping',\n",
              " 'room',\n",
              " 'got',\n",
              " 'short',\n",
              " 'trip',\n",
              " '2',\n",
              " 'hour',\n",
              " 'bed',\n",
              " 'comfortablenot',\n",
              " 'good',\n",
              " 'acheat',\n",
              " 'control',\n",
              " '4',\n",
              " 'x',\n",
              " '4',\n",
              " 'inch',\n",
              " 'screen',\n",
              " 'bring',\n",
              " 'green',\n",
              " 'shine',\n",
              " 'directly',\n",
              " 'eye',\n",
              " 'night',\n",
              " 'light',\n",
              " 'sensitive',\n",
              " 'tape',\n",
              " 'controlsthis',\n",
              " '4',\n",
              " 'start',\n",
              " 'hotel',\n",
              " 'clean',\n",
              " 'business',\n",
              " 'hotel',\n",
              " 'super',\n",
              " 'high',\n",
              " 'rate',\n",
              " 'better',\n",
              " 'chain',\n",
              " 'hotel',\n",
              " 'seattle']"
            ]
          },
          "execution_count": 34,
          "metadata": {},
          "output_type": "execute_result"
        }
      ],
      "source": [
        "lemma_word = []\n",
        "for token in token_list:\n",
        "    lemma_word.append(lemmatizer.lemmatize(token))\n",
        "lemma_word"
      ]
    },
    {
      "cell_type": "code",
      "execution_count": null,
      "metadata": {
        "colab": {
          "base_uri": "https://localhost:8080/",
          "height": 140
        },
        "id": "s3GbxQoSn9aY",
        "outputId": "d559259b-abbc-4f77-d9be-e7c27503a353"
      },
      "outputs": [
        {
          "data": {
            "application/vnd.google.colaboratory.intrinsic+json": {
              "type": "string"
            },
            "text/plain": [
              "'ok nothing special charge diamond member hilton decided chain shot 20th anniversary seattle start booked suite paid extra website description suite bedroom bathroom standard hotel room took printed reservation desk showed said thing like tv couch ect desk clerk told oh mixed suite description kimpton website sorry free breakfast got kidding embassy suit sitting room bathroom bedroom unlike kimpton call suite 5 day stay offer correct false advertising send kimpton preferred guest website email asking failure provide suite advertised website reservation description furnished hard copy reservation printout website desk manager duty reply solution send email trip guest survey follow email mail guess tell concerned guestthe staff ranged indifferent helpful asked desk good breakfast spot neighborhood hood told hotel gee best breakfast spot seattle 12 block away convenient hotel know exist arrived late night 11 pm inside run bellman busy chating cell phone help bagsprior arrival emailed hotel inform 20th anniversary half really picky wanted make sure good got nice email saying like deliver bottle champagne chocolate covered strawberry room arrival celebrate told needed foam pillow arrival champagne strawberry foam pillow great room view alley high rise building good better housekeeping staff cleaner room property impressed left morning shopping room got short trip 2 hour bed comfortablenot good acheat control 4 x 4 inch screen bring green shine directly eye night light sensitive tape controlsthis 4 start hotel clean business hotel super high rate better chain hotel seattle'"
            ]
          },
          "execution_count": 35,
          "metadata": {},
          "output_type": "execute_result"
        }
      ],
      "source": [
        "join_text = ' '.join(lemma_word)\n",
        "join_text"
      ]
    },
    {
      "cell_type": "code",
      "execution_count": null,
      "metadata": {
        "id": "lb0S6y58nbdP"
      },
      "outputs": [],
      "source": [
        "def data_cleaner(data):\n",
        "    clean_data = []\n",
        "    for sentence in tqdm(data):\n",
        "        cleantext = BeautifulSoup(sentence, \"lxml\").text #html tags\n",
        "        cleantext = re.sub(r'[^\\w\\s]','',cleantext) # punctuation\n",
        "        cleantext = [token for token in cleantext.lower().split() if token not in stopword] #stopword\n",
        "        clean_text = ' '.join([lemmatizer.lemmatize(token) for token in cleantext])\n",
        "        clean_data.append(clean_text.strip())\n",
        "    return clean_data"
      ]
    },
    {
      "cell_type": "code",
      "execution_count": null,
      "metadata": {
        "colab": {
          "base_uri": "https://localhost:8080/"
        },
        "id": "q-WzZK2HogDI",
        "outputId": "a9744e61-c5a4-427a-d596-5ea05bfcefb7"
      },
      "outputs": [
        {
          "name": "stderr",
          "output_type": "stream",
          "text": [
            "100%|██████████| 20491/20491 [00:11<00:00, 1764.84it/s]\n"
          ]
        }
      ],
      "source": [
        "clean_data = data_cleaner(data.Review.values)"
      ]
    },
    {
      "cell_type": "code",
      "execution_count": null,
      "metadata": {
        "colab": {
          "base_uri": "https://localhost:8080/",
          "height": 70
        },
        "id": "QIekxm4cogL3",
        "outputId": "56e90ba5-2951-42b7-eb57-42ba4420ff0a"
      },
      "outputs": [
        {
          "data": {
            "application/vnd.google.colaboratory.intrinsic+json": {
              "type": "string"
            },
            "text/plain": [
              "'great location staff location price make older hotel good choice staff friendly looking modern place old studio apartment building run hotel great neighborhood close great local resturants hotel sterile tourist feeling newer mid range hotel feel like small european hotel yes room use little moderizing compermise reservation stay'"
            ]
          },
          "execution_count": 38,
          "metadata": {},
          "output_type": "execute_result"
        }
      ],
      "source": [
        "clean_data[100]"
      ]
    },
    {
      "cell_type": "markdown",
      "metadata": {
        "id": "gb-4E3Xj0MZI"
      },
      "source": [
        "### Vectorization Feature Engineering (TF-IDF)"
      ]
    },
    {
      "cell_type": "code",
      "execution_count": null,
      "metadata": {
        "id": "EHlWW9D10XwB"
      },
      "outputs": [],
      "source": [
        "from sklearn.svm import LinearSVC\n",
        "from sklearn.feature_extraction.text import TfidfVectorizer\n",
        "from sklearn.pipeline import Pipeline"
      ]
    },
    {
      "cell_type": "code",
      "execution_count": null,
      "metadata": {
        "colab": {
          "base_uri": "https://localhost:8080/"
        },
        "id": "3OZuzO9c0mhq",
        "outputId": "421a9a95-04e8-4bb8-95dc-186856a967a9"
      },
      "outputs": [
        {
          "data": {
            "text/plain": [
              "TfidfVectorizer()"
            ]
          },
          "execution_count": 45,
          "metadata": {},
          "output_type": "execute_result"
        }
      ],
      "source": [
        "vec = TfidfVectorizer()\n",
        "vec.fit(clean_data)"
      ]
    },
    {
      "cell_type": "markdown",
      "metadata": {
        "id": "GaJPf_MWAiUk"
      },
      "source": [
        "## Train the model"
      ]
    },
    {
      "cell_type": "markdown",
      "metadata": {
        "id": "BkEiNIFwBfgM"
      },
      "source": [
        "### Train/ Test Split"
      ]
    },
    {
      "cell_type": "code",
      "execution_count": null,
      "metadata": {
        "colab": {
          "background_save": true
        },
        "id": "Qeqrb1Es1LyF",
        "outputId": "a314b0a3-6bc7-43f8-ffca-6a5068eab45c"
      },
      "outputs": [
        {
          "ename": "NameError",
          "evalue": "ignored",
          "output_type": "error",
          "traceback": [
            "\u001b[0;31m---------------------------------------------------------------------------\u001b[0m",
            "\u001b[0;31mNameError\u001b[0m                                 Traceback (most recent call last)",
            "\u001b[0;32m<ipython-input-1-3baaefb73518>\u001b[0m in \u001b[0;36m<module>\u001b[0;34m\u001b[0m\n\u001b[1;32m      1\u001b[0m \u001b[0;32mfrom\u001b[0m \u001b[0msklearn\u001b[0m\u001b[0;34m.\u001b[0m\u001b[0mmodel_selection\u001b[0m \u001b[0;32mimport\u001b[0m \u001b[0mtrain_test_split\u001b[0m\u001b[0;34m\u001b[0m\u001b[0;34m\u001b[0m\u001b[0m\n\u001b[0;32m----> 2\u001b[0;31m \u001b[0mx_train\u001b[0m\u001b[0;34m,\u001b[0m \u001b[0mx_test\u001b[0m\u001b[0;34m,\u001b[0m \u001b[0my_train\u001b[0m\u001b[0;34m,\u001b[0m \u001b[0my_test\u001b[0m \u001b[0;34m=\u001b[0m \u001b[0mtrain_test_split\u001b[0m\u001b[0;34m(\u001b[0m\u001b[0mx\u001b[0m\u001b[0;34m,\u001b[0m \u001b[0my\u001b[0m\u001b[0;34m,\u001b[0m \u001b[0mtest_size\u001b[0m \u001b[0;34m=\u001b[0m \u001b[0;36m0.2\u001b[0m\u001b[0;34m,\u001b[0m \u001b[0mstratify\u001b[0m \u001b[0;34m=\u001b[0m \u001b[0mdata\u001b[0m\u001b[0;34m.\u001b[0m\u001b[0mSentiment\u001b[0m\u001b[0;34m,\u001b[0m \u001b[0mrandom_state\u001b[0m \u001b[0;34m=\u001b[0m \u001b[0;36m0\u001b[0m\u001b[0;34m)\u001b[0m\u001b[0;34m\u001b[0m\u001b[0;34m\u001b[0m\u001b[0m\n\u001b[0m",
            "\u001b[0;31mNameError\u001b[0m: name 'x' is not defined"
          ]
        }
      ],
      "source": [
        "from sklearn.model_selection import train_test_split\n",
        "x_train, x_test, y_train, y_test = train_test_split(x, y, test_size = 0.2, stratify = data.Sentiment, random_state = 0)"
      ]
    },
    {
      "cell_type": "code",
      "execution_count": null,
      "metadata": {
        "colab": {
          "background_save": true
        },
        "id": "DUX2gNXl1Q8c"
      },
      "outputs": [],
      "source": [
        "x_train.shape, x_test.shape\n",
        "# 2520 samples in training dataset and 630 in test dataset"
      ]
    },
    {
      "cell_type": "markdown",
      "metadata": {
        "id": "vrCsAstOAwa6"
      },
      "source": [
        "### Fit x_train and y_train"
      ]
    },
    {
      "cell_type": "code",
      "execution_count": null,
      "metadata": {
        "colab": {
          "background_save": true
        },
        "id": "kgu3SPK61G3T"
      },
      "outputs": [],
      "source": [
        "classifier = LinearSVC()"
      ]
    },
    {
      "cell_type": "code",
      "execution_count": null,
      "metadata": {
        "colab": {
          "background_save": true
        },
        "id": "iuVdiRzP26sc"
      },
      "outputs": [],
      "source": [
        "pipeline = Pipeline([('tfidf',vec), ('clf',classifier)])\n",
        "# it will first do vectorization and then it will do classification"
      ]
    },
    {
      "cell_type": "code",
      "execution_count": null,
      "metadata": {
        "colab": {
          "background_save": true
        },
        "id": "IpxdCk475DKW"
      },
      "outputs": [],
      "source": [
        "pipeline.fit(x_train, y_train)"
      ]
    },
    {
      "cell_type": "code",
      "execution_count": null,
      "metadata": {
        "colab": {
          "background_save": true
        },
        "id": "oAH9-v355Jua"
      },
      "outputs": [],
      "source": [
        "# in this we don't need to prepare the dataset for testing(x_test)"
      ]
    },
    {
      "cell_type": "code",
      "execution_count": null,
      "metadata": {
        "colab": {
          "background_save": true
        },
        "id": "ZHJQPw77YrxV"
      },
      "outputs": [],
      "source": [
        "import joblib\n",
        "joblib.dump(pipeline,'sentiment_model.pkl')"
      ]
    },
    {
      "cell_type": "markdown",
      "metadata": {
        "id": "yCVFR5A25qaS"
      },
      "source": [
        "## Check Model Performance"
      ]
    },
    {
      "cell_type": "code",
      "execution_count": null,
      "metadata": {
        "id": "xp3Nj55h5smN"
      },
      "outputs": [],
      "source": [
        "from sklearn.metrics import accuracy_score, classification_report, confusion_matrix"
      ]
    },
    {
      "cell_type": "code",
      "execution_count": null,
      "metadata": {
        "id": "i2yugURA50Td"
      },
      "outputs": [],
      "source": [
        "y_pred = pipeline.predict(x_test)"
      ]
    },
    {
      "cell_type": "code",
      "execution_count": null,
      "metadata": {
        "colab": {
          "base_uri": "https://localhost:8080/"
        },
        "id": "xvt59nSM58ee",
        "outputId": "c674c781-24a0-426a-e0c5-7a30620c2dd4"
      },
      "outputs": [
        {
          "data": {
            "text/plain": [
              "array([[ 821,  259],\n",
              "       [ 181, 2838]])"
            ]
          },
          "execution_count": 57,
          "metadata": {},
          "output_type": "execute_result"
        }
      ],
      "source": [
        "# confusion_matrix\n",
        "confusion_matrix(y_test, y_pred)"
      ]
    },
    {
      "cell_type": "code",
      "execution_count": null,
      "metadata": {
        "colab": {
          "base_uri": "https://localhost:8080/"
        },
        "id": "CoX7Jabd6Ar1",
        "outputId": "1c8102b5-cf2a-433a-c4c4-bfcb03fe5718"
      },
      "outputs": [
        {
          "name": "stdout",
          "output_type": "stream",
          "text": [
            "              precision    recall  f1-score   support\n",
            "\n",
            "           0       0.82      0.76      0.79      1080\n",
            "           1       0.92      0.94      0.93      3019\n",
            "\n",
            "    accuracy                           0.89      4099\n",
            "   macro avg       0.87      0.85      0.86      4099\n",
            "weighted avg       0.89      0.89      0.89      4099\n",
            "\n"
          ]
        }
      ],
      "source": [
        "# classification_report\n",
        "print(classification_report(y_test, y_pred))\n",
        "# we are getting almost 91% accuracy"
      ]
    },
    {
      "cell_type": "code",
      "execution_count": null,
      "metadata": {
        "colab": {
          "base_uri": "https://localhost:8080/"
        },
        "id": "d5cosLk16ChG",
        "outputId": "f711a2ee-3298-4145-ea78-7dfdc72f2c07"
      },
      "outputs": [
        {
          "data": {
            "text/plain": [
              "89.27"
            ]
          },
          "execution_count": 59,
          "metadata": {},
          "output_type": "execute_result"
        }
      ],
      "source": [
        "round(accuracy_score(y_test, y_pred)*100,2)"
      ]
    },
    {
      "cell_type": "markdown",
      "metadata": {
        "id": "Zpo6jTiNaXYu"
      },
      "source": [
        "## Predict Sentiments using Model"
      ]
    },
    {
      "cell_type": "code",
      "execution_count": null,
      "metadata": {
        "colab": {
          "base_uri": "https://localhost:8080/"
        },
        "id": "gYDMKDvcWzSk",
        "outputId": "6bf8c2ed-4888-4358-e966-abbceddf879b"
      },
      "outputs": [
        {
          "name": "stdout",
          "output_type": "stream",
          "text": [
            "Result: This review is negative\n"
          ]
        }
      ],
      "source": [
        " prediction = pipeline.predict([\"hotel is bad\"])\n",
        "\n",
        " if prediction == 1:\n",
        "   print(\"Result: This review is positive\")\n",
        " else:\n",
        "   print(\"Result: This review is negative\")"
      ]
    }
  ],
  "metadata": {
    "colab": {
      "collapsed_sections": [],
      "provenance": []
    },
    "kernelspec": {
      "display_name": "Python 3 (ipykernel)",
      "language": "python",
      "name": "python3"
    },
    "language_info": {
      "codemirror_mode": {
        "name": "ipython",
        "version": 3
      },
      "file_extension": ".py",
      "mimetype": "text/x-python",
      "name": "python",
      "nbconvert_exporter": "python",
      "pygments_lexer": "ipython3",
      "version": "3.9.7"
    }
  },
  "nbformat": 4,
  "nbformat_minor": 0
}